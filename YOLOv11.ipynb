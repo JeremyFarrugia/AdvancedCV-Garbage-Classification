{
 "cells": [
  {
   "cell_type": "code",
   "execution_count": 1,
   "metadata": {},
   "outputs": [],
   "source": [
    "import os\n",
    "from ultralytics import YOLO\n",
    "import matplotlib.pyplot as plt\n",
    "import cv2"
   ]
  },
  {
   "cell_type": "code",
   "execution_count": 2,
   "metadata": {},
   "outputs": [],
   "source": [
    "yaml_path = 'C:/Users/User/Desktop/Garbage-Classification/Garbage Detection.v3i.yolov5pytorch/data.yaml'"
   ]
  },
  {
   "cell_type": "code",
   "execution_count": 6,
   "metadata": {},
   "outputs": [],
   "source": [
    "def train_yolov11(yaml_path, epochs=30, batch_size=16, pretrained_model=None, img_size=416, learning_rate=0.0008, optimizer=\"Adam\", patience=7, device=0):\n",
    "    \"\"\"\n",
    "    Train YOLOv11 on the prepared dataset, optionally starting from a pretrained model.\n",
    "    \n",
    "    Args:\n",
    "        yaml_path (str): Path to the data.yaml file.\n",
    "        epochs (int): Number of training epochs.\n",
    "        batch_size (int): Batch size for training.\n",
    "        pretrained_model (str): Path to a pretrained model to continue training. Default is None.\n",
    "        img_size (int): Image size for training. Default is 416.\n",
    "        learning_rate (float): Initial learning rate. Default is 0.0008.\n",
    "        optimizer (str): Optimizer to use. Default is 'Adam'.\n",
    "        patience (int): Number of epochs with no improvement after which training will be stopped. Default is 7.\n",
    "        device (int): Device to use for training. Default is 0 (GPU).\n",
    "    \"\"\"\n",
    "    # Ensure data.yaml exists\n",
    "    if not os.path.exists(yaml_path):\n",
    "        raise FileNotFoundError(f\"data.yaml file not found: {yaml_path}\")\n",
    "\n",
    "    # Debug: Check if the dataset paths are correct\n",
    "    print(f\"Training with dataset located at: {yaml_path}\")\n",
    "    \n",
    "    # Load YOLOv11 model (optionally using a pretrained model)\n",
    "    model = YOLO(pretrained_model if pretrained_model else \"yolo11s.pt\")\n",
    "\n",
    "    # Debug: Verify the model is loaded\n",
    "    print(f\"Model {pretrained_model if pretrained_model else 'yolo11s.pt'} loaded successfully.\")\n",
    "    \n",
    "    # Train the model\n",
    "    model.train(\n",
    "        data=yaml_path,\n",
    "        epochs=epochs,               # Use the provided epochs parameter\n",
    "        batch=batch_size,            # Use the provided batch_size parameter\n",
    "        imgsz=img_size,              # Use the provided img_size parameter\n",
    "        lr0=learning_rate,           # Use the provided learning_rate parameter\n",
    "        lrf=0.000001,                # Learning rate decay factor\n",
    "        optimizer=optimizer,         # Use the provided optimizer parameter\n",
    "        patience=patience,           # Use the provided patience parameter\n",
    "        val=True,\n",
    "        project=\"runs\",\n",
    "        name=\"yolov11_garbage_optimized\",\n",
    "        plots=True,\n",
    "        device=device,               # Use the provided device parameter\n",
    "        exist_ok=True                # This will overwrite the existing folder\n",
    "    )\n",
    "\n",
    "    print(\"YOLOv11 training complete.\")\n",
    "    \n",
    "    # Save the model after training\n",
    "    model.save(\"yolov11_garbage_detection_model.pt\")\n",
    "    print(\"Model saved as 'yolov11_garbage_detection_model.pt'.\")"
   ]
  },
  {
   "cell_type": "code",
   "execution_count": 7,
   "metadata": {},
   "outputs": [],
   "source": [
    "def evaluate_model(model, yaml_path):\n",
    "    \"\"\"\n",
    "    Evaluate the model using mAP and TensorBoard.\n",
    "\n",
    "    Args:\n",
    "        model: Trained YOLOv11 model.\n",
    "        dataset (dict): Dictionary containing dataset paths.\n",
    "\n",
    "    Returns:\n",
    "        dict: Evaluation metrics including mAP scores.\n",
    "    \"\"\"\n",
    "    print(\"Evaluating model performance...\")\n",
    "\n",
    "    # Run validation\n",
    "    results = model.val(\n",
    "        data=yaml_path,\n",
    "        project=\"runs\",\n",
    "        name=\"evaluation YOLOv11 Model\",\n",
    "        imgsz=416,\n",
    "        split='test',\n",
    "        save_json=True,\n",
    "        plots=True,\n",
    "        exist_ok=True  # This will overwrite the existing evaluation folder\n",
    "    )\n",
    "\n",
    "    # Extract metrics safely\n",
    "    try:\n",
    "        metrics = {\n",
    "            \"mAP@0.5\": results.box.map50,      # mAP@0.5\n",
    "            \"mAP@0.5:0.95\": results.box.map    # mAP@0.5:0.95\n",
    "        }\n",
    "        print(f\"Evaluation metrics: {metrics}\")\n",
    "        return metrics\n",
    "    except AttributeError as e:\n",
    "        raise ValueError(\"The results object does not contain expected metrics.\") from e"
   ]
  },
  {
   "cell_type": "code",
   "execution_count": 8,
   "metadata": {},
   "outputs": [
    {
     "name": "stdout",
     "output_type": "stream",
     "text": [
      "Training with dataset located at: C:/Users/User/Desktop/Garbage-Classification/Garbage Detection.v3i.yolov5pytorch/data.yaml\n",
      "Model yolo11s.pt loaded successfully.\n",
      "New https://pypi.org/project/ultralytics/8.3.68 available  Update with 'pip install -U ultralytics'\n",
      "Ultralytics 8.3.67  Python-3.11.9 torch-2.5.1+cu121 CUDA:0 (NVIDIA GeForce GTX 1660 SUPER, 6144MiB)\n",
      "\u001b[34m\u001b[1mengine\\trainer: \u001b[0mtask=detect, mode=train, model=yolo11s.pt, data=C:/Users/User/Desktop/Garbage-Classification/Garbage Detection.v3i.yolov5pytorch/data.yaml, epochs=250, time=None, patience=7, batch=16, imgsz=416, save=True, save_period=-1, cache=False, device=0, workers=8, project=runs, name=yolov11_garbage_optimized, exist_ok=True, pretrained=True, optimizer=Adam, verbose=True, seed=0, deterministic=True, single_cls=False, rect=False, cos_lr=False, close_mosaic=10, resume=False, amp=True, fraction=1.0, profile=False, freeze=None, multi_scale=False, overlap_mask=True, mask_ratio=4, dropout=0.0, val=True, split=val, save_json=False, save_hybrid=False, conf=None, iou=0.7, max_det=300, half=False, dnn=False, plots=True, source=None, vid_stride=1, stream_buffer=False, visualize=False, augment=False, agnostic_nms=False, classes=None, retina_masks=False, embed=None, show=False, save_frames=False, save_txt=False, save_conf=False, save_crop=False, show_labels=True, show_conf=True, show_boxes=True, line_width=None, format=torchscript, keras=False, optimize=False, int8=False, dynamic=False, simplify=True, opset=None, workspace=None, nms=False, lr0=0.0008, lrf=1e-06, momentum=0.937, weight_decay=0.0005, warmup_epochs=3.0, warmup_momentum=0.8, warmup_bias_lr=0.1, box=7.5, cls=0.5, dfl=1.5, pose=12.0, kobj=1.0, nbs=64, hsv_h=0.015, hsv_s=0.7, hsv_v=0.4, degrees=0.0, translate=0.1, scale=0.5, shear=0.0, perspective=0.0, flipud=0.0, fliplr=0.5, bgr=0.0, mosaic=1.0, mixup=0.0, copy_paste=0.0, copy_paste_mode=flip, auto_augment=randaugment, erasing=0.4, crop_fraction=1.0, cfg=None, tracker=botsort.yaml, save_dir=runs\\yolov11_garbage_optimized\n",
      "Overriding model.yaml nc=80 with nc=4\n",
      "\n",
      "                   from  n    params  module                                       arguments                     \n",
      "  0                  -1  1       928  ultralytics.nn.modules.conv.Conv             [3, 32, 3, 2]                 \n",
      "  1                  -1  1     18560  ultralytics.nn.modules.conv.Conv             [32, 64, 3, 2]                \n",
      "  2                  -1  1     26080  ultralytics.nn.modules.block.C3k2            [64, 128, 1, False, 0.25]     \n",
      "  3                  -1  1    147712  ultralytics.nn.modules.conv.Conv             [128, 128, 3, 2]              \n",
      "  4                  -1  1    103360  ultralytics.nn.modules.block.C3k2            [128, 256, 1, False, 0.25]    \n",
      "  5                  -1  1    590336  ultralytics.nn.modules.conv.Conv             [256, 256, 3, 2]              \n",
      "  6                  -1  1    346112  ultralytics.nn.modules.block.C3k2            [256, 256, 1, True]           \n",
      "  7                  -1  1   1180672  ultralytics.nn.modules.conv.Conv             [256, 512, 3, 2]              \n",
      "  8                  -1  1   1380352  ultralytics.nn.modules.block.C3k2            [512, 512, 1, True]           \n",
      "  9                  -1  1    656896  ultralytics.nn.modules.block.SPPF            [512, 512, 5]                 \n",
      " 10                  -1  1    990976  ultralytics.nn.modules.block.C2PSA           [512, 512, 1]                 \n",
      " 11                  -1  1         0  torch.nn.modules.upsampling.Upsample         [None, 2, 'nearest']          \n",
      " 12             [-1, 6]  1         0  ultralytics.nn.modules.conv.Concat           [1]                           \n",
      " 13                  -1  1    443776  ultralytics.nn.modules.block.C3k2            [768, 256, 1, False]          \n",
      " 14                  -1  1         0  torch.nn.modules.upsampling.Upsample         [None, 2, 'nearest']          \n",
      " 15             [-1, 4]  1         0  ultralytics.nn.modules.conv.Concat           [1]                           \n",
      " 16                  -1  1    127680  ultralytics.nn.modules.block.C3k2            [512, 128, 1, False]          \n",
      " 17                  -1  1    147712  ultralytics.nn.modules.conv.Conv             [128, 128, 3, 2]              \n",
      " 18            [-1, 13]  1         0  ultralytics.nn.modules.conv.Concat           [1]                           \n",
      " 19                  -1  1    345472  ultralytics.nn.modules.block.C3k2            [384, 256, 1, False]          \n",
      " 20                  -1  1    590336  ultralytics.nn.modules.conv.Conv             [256, 256, 3, 2]              \n",
      " 21            [-1, 10]  1         0  ultralytics.nn.modules.conv.Concat           [1]                           \n",
      " 22                  -1  1   1511424  ultralytics.nn.modules.block.C3k2            [768, 512, 1, True]           \n",
      " 23        [16, 19, 22]  1    820956  ultralytics.nn.modules.head.Detect           [4, [128, 256, 512]]          \n",
      "YOLO11s summary: 319 layers, 9,429,340 parameters, 9,429,324 gradients, 21.6 GFLOPs\n",
      "\n",
      "Transferred 493/499 items from pretrained weights\n",
      "\u001b[34m\u001b[1mTensorBoard: \u001b[0mStart with 'tensorboard --logdir runs\\yolov11_garbage_optimized', view at http://localhost:6006/\n",
      "Freezing layer 'model.23.dfl.conv.weight'\n",
      "\u001b[34m\u001b[1mAMP: \u001b[0mchecks failed . AMP training on NVIDIA GeForce GTX 1660 SUPER GPU may cause NaN losses or zero-mAP results, so AMP will be disabled during training.\n"
     ]
    },
    {
     "name": "stderr",
     "output_type": "stream",
     "text": [
      "\u001b[34m\u001b[1mtrain: \u001b[0mScanning C:\\Users\\User\\Desktop\\Garbage-Classification\\Garbage Detection.v3i.yolov5pytorch\\train\\labels.cache... 711 images, 0 backgrounds, 0 corrupt: 100%|██████████| 711/711 [00:00<?, ?it/s]"
     ]
    },
    {
     "name": "stdout",
     "output_type": "stream",
     "text": [
      "WARNING  Box and segment counts should be equal, but got len(segments) = 6, len(boxes) = 1610. To resolve this only boxes will be used and all segments will be removed. To avoid this please supply either a detect or segment dataset, not a detect-segment mixed dataset.\n"
     ]
    },
    {
     "name": "stderr",
     "output_type": "stream",
     "text": [
      "\n",
      "\u001b[34m\u001b[1mval: \u001b[0mScanning C:\\Users\\User\\Desktop\\Garbage-Classification\\Garbage Detection.v3i.yolov5pytorch\\valid\\labels.cache... 30 images, 0 backgrounds, 0 corrupt: 100%|██████████| 30/30 [00:00<?, ?it/s]\n"
     ]
    },
    {
     "name": "stdout",
     "output_type": "stream",
     "text": [
      "Plotting labels to runs\\yolov11_garbage_optimized\\labels.jpg... \n",
      "\u001b[34m\u001b[1moptimizer:\u001b[0m Adam(lr=0.0008, momentum=0.937) with parameter groups 81 weight(decay=0.0), 88 weight(decay=0.0005), 87 bias(decay=0.0)\n",
      "\u001b[34m\u001b[1mTensorBoard: \u001b[0mmodel graph visualization added \n",
      "Image sizes 416 train, 416 val\n",
      "Using 8 dataloader workers\n",
      "Logging results to \u001b[1mruns\\yolov11_garbage_optimized\u001b[0m\n",
      "Starting training for 250 epochs...\n",
      "\n",
      "      Epoch    GPU_mem   box_loss   cls_loss   dfl_loss  Instances       Size\n"
     ]
    },
    {
     "name": "stderr",
     "output_type": "stream",
     "text": [
      "      1/250      4.16G      1.393      1.896      1.404         38        416: 100%|██████████| 45/45 [00:12<00:00,  3.53it/s]\n",
      "                 Class     Images  Instances      Box(P          R      mAP50  mAP50-95): 100%|██████████| 1/1 [00:00<00:00,  3.47it/s]"
     ]
    },
    {
     "name": "stdout",
     "output_type": "stream",
     "text": [
      "                   all         30         78      0.714        0.4      0.402      0.229\n"
     ]
    },
    {
     "name": "stderr",
     "output_type": "stream",
     "text": [
      "\n"
     ]
    },
    {
     "name": "stdout",
     "output_type": "stream",
     "text": [
      "\n",
      "      Epoch    GPU_mem   box_loss   cls_loss   dfl_loss  Instances       Size\n"
     ]
    },
    {
     "name": "stderr",
     "output_type": "stream",
     "text": [
      "      2/250       4.1G      1.382      1.273      1.397         25        416: 100%|██████████| 45/45 [00:12<00:00,  3.68it/s]\n",
      "                 Class     Images  Instances      Box(P          R      mAP50  mAP50-95): 100%|██████████| 1/1 [00:00<00:00,  3.86it/s]"
     ]
    },
    {
     "name": "stdout",
     "output_type": "stream",
     "text": [
      "                   all         30         78       0.68      0.615      0.673      0.398\n"
     ]
    },
    {
     "name": "stderr",
     "output_type": "stream",
     "text": [
      "\n"
     ]
    },
    {
     "name": "stdout",
     "output_type": "stream",
     "text": [
      "\n",
      "      Epoch    GPU_mem   box_loss   cls_loss   dfl_loss  Instances       Size\n"
     ]
    },
    {
     "name": "stderr",
     "output_type": "stream",
     "text": [
      "      3/250       4.1G      1.372      1.182      1.405         48        416: 100%|██████████| 45/45 [00:12<00:00,  3.59it/s]\n",
      "                 Class     Images  Instances      Box(P          R      mAP50  mAP50-95): 100%|██████████| 1/1 [00:00<00:00,  3.72it/s]"
     ]
    },
    {
     "name": "stdout",
     "output_type": "stream",
     "text": [
      "                   all         30         78      0.745      0.697      0.771       0.45\n"
     ]
    },
    {
     "name": "stderr",
     "output_type": "stream",
     "text": [
      "\n"
     ]
    },
    {
     "name": "stdout",
     "output_type": "stream",
     "text": [
      "\n",
      "      Epoch    GPU_mem   box_loss   cls_loss   dfl_loss  Instances       Size\n"
     ]
    },
    {
     "name": "stderr",
     "output_type": "stream",
     "text": [
      "      4/250       4.1G       1.34      1.166      1.389         29        416: 100%|██████████| 45/45 [00:12<00:00,  3.61it/s]\n",
      "                 Class     Images  Instances      Box(P          R      mAP50  mAP50-95): 100%|██████████| 1/1 [00:00<00:00,  3.86it/s]"
     ]
    },
    {
     "name": "stdout",
     "output_type": "stream",
     "text": [
      "                   all         30         78      0.432       0.61      0.494       0.28\n"
     ]
    },
    {
     "name": "stderr",
     "output_type": "stream",
     "text": [
      "\n"
     ]
    },
    {
     "name": "stdout",
     "output_type": "stream",
     "text": [
      "\n",
      "      Epoch    GPU_mem   box_loss   cls_loss   dfl_loss  Instances       Size\n"
     ]
    },
    {
     "name": "stderr",
     "output_type": "stream",
     "text": [
      "      5/250      4.08G      1.323      1.149      1.367         32        416: 100%|██████████| 45/45 [00:12<00:00,  3.68it/s]\n",
      "                 Class     Images  Instances      Box(P          R      mAP50  mAP50-95): 100%|██████████| 1/1 [00:00<00:00,  3.85it/s]"
     ]
    },
    {
     "name": "stdout",
     "output_type": "stream",
     "text": [
      "                   all         30         78      0.594      0.692      0.723      0.433\n"
     ]
    },
    {
     "name": "stderr",
     "output_type": "stream",
     "text": [
      "\n"
     ]
    },
    {
     "name": "stdout",
     "output_type": "stream",
     "text": [
      "\n",
      "      Epoch    GPU_mem   box_loss   cls_loss   dfl_loss  Instances       Size\n"
     ]
    },
    {
     "name": "stderr",
     "output_type": "stream",
     "text": [
      "      6/250      4.12G        1.3      1.036      1.344         25        416: 100%|██████████| 45/45 [00:12<00:00,  3.68it/s]\n",
      "                 Class     Images  Instances      Box(P          R      mAP50  mAP50-95): 100%|██████████| 1/1 [00:00<00:00,  3.86it/s]"
     ]
    },
    {
     "name": "stdout",
     "output_type": "stream",
     "text": [
      "                   all         30         78      0.611      0.712       0.68      0.428\n"
     ]
    },
    {
     "name": "stderr",
     "output_type": "stream",
     "text": [
      "\n"
     ]
    },
    {
     "name": "stdout",
     "output_type": "stream",
     "text": [
      "\n",
      "      Epoch    GPU_mem   box_loss   cls_loss   dfl_loss  Instances       Size\n"
     ]
    },
    {
     "name": "stderr",
     "output_type": "stream",
     "text": [
      "      7/250       4.1G      1.302      1.068      1.364         21        416: 100%|██████████| 45/45 [00:12<00:00,  3.70it/s]\n",
      "                 Class     Images  Instances      Box(P          R      mAP50  mAP50-95): 100%|██████████| 1/1 [00:00<00:00,  3.87it/s]"
     ]
    },
    {
     "name": "stdout",
     "output_type": "stream",
     "text": [
      "                   all         30         78      0.585      0.666      0.589      0.358\n"
     ]
    },
    {
     "name": "stderr",
     "output_type": "stream",
     "text": [
      "\n"
     ]
    },
    {
     "name": "stdout",
     "output_type": "stream",
     "text": [
      "\n",
      "      Epoch    GPU_mem   box_loss   cls_loss   dfl_loss  Instances       Size\n"
     ]
    },
    {
     "name": "stderr",
     "output_type": "stream",
     "text": [
      "      8/250      4.12G      1.284       0.99      1.342         24        416: 100%|██████████| 45/45 [00:12<00:00,  3.70it/s]\n",
      "                 Class     Images  Instances      Box(P          R      mAP50  mAP50-95): 100%|██████████| 1/1 [00:00<00:00,  3.76it/s]"
     ]
    },
    {
     "name": "stdout",
     "output_type": "stream",
     "text": [
      "                   all         30         78       0.68       0.68       0.63      0.419\n"
     ]
    },
    {
     "name": "stderr",
     "output_type": "stream",
     "text": [
      "\n"
     ]
    },
    {
     "name": "stdout",
     "output_type": "stream",
     "text": [
      "\n",
      "      Epoch    GPU_mem   box_loss   cls_loss   dfl_loss  Instances       Size\n"
     ]
    },
    {
     "name": "stderr",
     "output_type": "stream",
     "text": [
      "      9/250      4.08G      1.255      0.944      1.318         26        416: 100%|██████████| 45/45 [00:12<00:00,  3.59it/s]\n",
      "                 Class     Images  Instances      Box(P          R      mAP50  mAP50-95): 100%|██████████| 1/1 [00:00<00:00,  3.67it/s]"
     ]
    },
    {
     "name": "stdout",
     "output_type": "stream",
     "text": [
      "                   all         30         78      0.717      0.671      0.719      0.452\n"
     ]
    },
    {
     "name": "stderr",
     "output_type": "stream",
     "text": [
      "\n"
     ]
    },
    {
     "name": "stdout",
     "output_type": "stream",
     "text": [
      "\n",
      "      Epoch    GPU_mem   box_loss   cls_loss   dfl_loss  Instances       Size\n"
     ]
    },
    {
     "name": "stderr",
     "output_type": "stream",
     "text": [
      "     10/250      4.13G      1.243     0.9134       1.32         14        416: 100%|██████████| 45/45 [00:12<00:00,  3.67it/s]\n",
      "                 Class     Images  Instances      Box(P          R      mAP50  mAP50-95): 100%|██████████| 1/1 [00:00<00:00,  3.91it/s]"
     ]
    },
    {
     "name": "stdout",
     "output_type": "stream",
     "text": [
      "                   all         30         78      0.714      0.505      0.534      0.327\n",
      "\u001b[34m\u001b[1mEarlyStopping: \u001b[0mTraining stopped early as no improvement observed in last 7 epochs. Best results observed at epoch 3, best model saved as best.pt.\n",
      "To update EarlyStopping(patience=7) pass a new patience value, i.e. `patience=300` or use `patience=0` to disable EarlyStopping.\n"
     ]
    },
    {
     "name": "stderr",
     "output_type": "stream",
     "text": [
      "\n"
     ]
    },
    {
     "name": "stdout",
     "output_type": "stream",
     "text": [
      "\n",
      "10 epochs completed in 0.040 hours.\n",
      "Optimizer stripped from runs\\yolov11_garbage_optimized\\weights\\last.pt, 19.2MB\n",
      "Optimizer stripped from runs\\yolov11_garbage_optimized\\weights\\best.pt, 19.2MB\n",
      "\n",
      "Validating runs\\yolov11_garbage_optimized\\weights\\best.pt...\n",
      "Ultralytics 8.3.67  Python-3.11.9 torch-2.5.1+cu121 CUDA:0 (NVIDIA GeForce GTX 1660 SUPER, 6144MiB)\n",
      "YOLO11s summary (fused): 238 layers, 9,414,348 parameters, 0 gradients, 21.3 GFLOPs\n"
     ]
    },
    {
     "name": "stderr",
     "output_type": "stream",
     "text": [
      "                 Class     Images  Instances      Box(P          R      mAP50  mAP50-95): 100%|██████████| 1/1 [00:00<00:00,  3.31it/s]\n"
     ]
    },
    {
     "name": "stdout",
     "output_type": "stream",
     "text": [
      "                   all         30         78      0.745      0.697      0.769      0.449\n",
      "           Mixed Waste         10         19      0.885      0.811      0.893      0.508\n",
      "         Organic Waste          9         11      0.936      0.727       0.92      0.532\n",
      "           Other Waste         10         16       0.37      0.562      0.446      0.244\n",
      "   Recyclable Material         12         32      0.788      0.688      0.817      0.514\n",
      "Speed: 0.1ms preprocess, 4.4ms inference, 0.0ms loss, 1.0ms postprocess per image\n",
      "Results saved to \u001b[1mruns\\yolov11_garbage_optimized\u001b[0m\n",
      "YOLOv11 training complete.\n",
      "Model saved as 'yolov11_garbage_detection_model.pt'.\n",
      "Evaluating model performance...\n",
      "Ultralytics 8.3.67  Python-3.11.9 torch-2.5.1+cu121 CUDA:0 (NVIDIA GeForce GTX 1660 SUPER, 6144MiB)\n",
      "YOLO11s summary (fused): 238 layers, 9,414,348 parameters, 0 gradients, 21.3 GFLOPs\n"
     ]
    },
    {
     "name": "stderr",
     "output_type": "stream",
     "text": [
      "\u001b[34m\u001b[1mval: \u001b[0mScanning C:\\Users\\User\\Desktop\\Garbage-Classification\\Garbage Detection.v3i.yolov5pytorch\\test\\labels.cache... 30 images, 0 backgrounds, 0 corrupt: 100%|██████████| 30/30 [00:00<?, ?it/s]\n",
      "                 Class     Images  Instances      Box(P          R      mAP50  mAP50-95): 100%|██████████| 2/2 [00:07<00:00,  3.75s/it]\n"
     ]
    },
    {
     "name": "stdout",
     "output_type": "stream",
     "text": [
      "                   all         30         91      0.653      0.629      0.631      0.344\n",
      "           Mixed Waste          9         16       0.85       0.75       0.79       0.49\n",
      "         Organic Waste         11         39      0.825      0.724      0.807      0.412\n",
      "           Other Waste          9         17      0.314      0.412      0.273       0.11\n",
      "   Recyclable Material         10         19      0.624      0.632      0.652      0.366\n",
      "Speed: 9.8ms preprocess, 8.3ms inference, 0.0ms loss, 4.1ms postprocess per image\n",
      "Saving runs\\evaluation YOLOv11 Model\\predictions.json...\n",
      "Results saved to \u001b[1mruns\\evaluation YOLOv11 Model\u001b[0m\n",
      "Evaluation metrics: {'mAP@0.5': 0.6307548432334755, 'mAP@0.5:0.95': 0.3444712632353037}\n"
     ]
    }
   ],
   "source": [
    "# Train the model\n",
    "train_yolov11(\n",
    "    yaml_path=yaml_path,\n",
    "    epochs=250,\n",
    "    batch_size=16,\n",
    "    pretrained_model=None,\n",
    "    img_size=416,\n",
    "    learning_rate=0.0008,\n",
    "    optimizer=\"Adam\",\n",
    "    patience=7,\n",
    "    device=0\n",
    ")\n",
    "\n",
    "# Load the trained model\n",
    "model = YOLO(\"yolov11_garbage_detection_model.pt\")\n",
    "\n",
    "# Evaluate model performance\n",
    "metrics = evaluate_model(model, yaml_path)"
   ]
  }
 ],
 "metadata": {
  "kernelspec": {
   "display_name": "Python 3",
   "language": "python",
   "name": "python3"
  },
  "language_info": {
   "codemirror_mode": {
    "name": "ipython",
    "version": 3
   },
   "file_extension": ".py",
   "mimetype": "text/x-python",
   "name": "python",
   "nbconvert_exporter": "python",
   "pygments_lexer": "ipython3",
   "version": "3.11.9"
  }
 },
 "nbformat": 4,
 "nbformat_minor": 2
}
